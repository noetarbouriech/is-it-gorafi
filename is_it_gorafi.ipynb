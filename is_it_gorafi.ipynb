{
  "nbformat": 4,
  "nbformat_minor": 0,
  "metadata": {
    "colab": {
      "provenance": [],
      "include_colab_link": true
    },
    "kernelspec": {
      "name": "python3",
      "display_name": "Python 3"
    },
    "language_info": {
      "name": "python"
    }
  },
  "cells": [
    {
      "cell_type": "markdown",
      "metadata": {
        "id": "view-in-github",
        "colab_type": "text"
      },
      "source": [
        "<a href=\"https://colab.research.google.com/github/noetarbouriech/is-it-gorafi/blob/main/is_it_gorafi.ipynb\" target=\"_parent\"><img src=\"https://colab.research.google.com/assets/colab-badge.svg\" alt=\"Open In Colab\"/></a>"
      ]
    },
    {
      "cell_type": "markdown",
      "source": [
        "Bienvenue dans ce super projet qui a pour but de déterminer si un title d'article provient du Figaro ou du Gorafi."
      ],
      "metadata": {
        "id": "J4nB3bkEjSrP"
      }
    },
    {
      "cell_type": "code",
      "source": [
        "import pandas as pd\n",
        "\n",
        "try:\n",
        "  df = pd.read_csv('dataset.csv')\n",
        "  print(df)\n",
        "except FileNotFoundError:\n",
        "  print(\"Error: 'dataset.csv' not found in the current directory.\")\n",
        "except pd.errors.EmptyDataError:\n",
        "  print(\"Error: 'dataset.csv' is empty.\")\n",
        "except pd.errors.ParserError:\n",
        "  print(\"Error: Unable to parse 'dataset.csv'. Please check the file format.\")"
      ],
      "metadata": {
        "colab": {
          "base_uri": "https://localhost:8080/"
        },
        "id": "Xe-h93oSjoQO",
        "outputId": "bd4edb1f-7895-4b98-8c63-02ebc03e69f4"
      },
      "execution_count": 3,
      "outputs": [
        {
          "output_type": "stream",
          "name": "stdout",
          "text": [
            "Error: 'dataset.csv' not found in the current directory.\n"
          ]
        }
      ]
    },
    {
      "cell_type": "code",
      "source": [],
      "metadata": {
        "id": "GQnWOEKbpzXX"
      },
      "execution_count": null,
      "outputs": []
    }
  ]
}